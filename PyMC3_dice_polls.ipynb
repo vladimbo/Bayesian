{
  "nbformat": 4,
  "nbformat_minor": 0,
  "metadata": {
    "colab": {
      "name": "PyMC3_dice_polls.ipynb",
      "provenance": [],
      "authorship_tag": "ABX9TyNYkL8lRWl16YApEZzI2jHi",
      "include_colab_link": true
    },
    "kernelspec": {
      "name": "python3",
      "display_name": "Python 3"
    }
  },
  "cells": [
    {
      "cell_type": "markdown",
      "metadata": {
        "id": "view-in-github",
        "colab_type": "text"
      },
      "source": [
        "<a href=\"https://colab.research.google.com/github/vladimbo/Bayesian/blob/master/PyMC3_dice_polls.ipynb\" target=\"_parent\"><img src=\"https://colab.research.google.com/assets/colab-badge.svg\" alt=\"Open In Colab\"/></a>"
      ]
    },
    {
      "cell_type": "code",
      "metadata": {
        "id": "uDIVj3uy6dzU",
        "colab_type": "code",
        "colab": {
          "base_uri": "https://localhost:8080/",
          "height": 523
        },
        "outputId": "b6dbce43-bb78-455d-c481-8d318280e99a"
      },
      "source": [
        "pip install git+https://github.com/arviz-devs/arviz"
      ],
      "execution_count": 38,
      "outputs": [
        {
          "output_type": "stream",
          "text": [
            "Collecting git+https://github.com/arviz-devs/arviz\n",
            "  Cloning https://github.com/arviz-devs/arviz to /tmp/pip-req-build-v58juy7d\n",
            "  Running command git clone -q https://github.com/arviz-devs/arviz /tmp/pip-req-build-v58juy7d\n",
            "  Installing build dependencies ... \u001b[?25l\u001b[?25hdone\n",
            "  Getting requirements to build wheel ... \u001b[?25l\u001b[?25hdone\n",
            "    Preparing wheel metadata ... \u001b[?25l\u001b[?25hdone\n",
            "Requirement already satisfied (use --upgrade to upgrade): arviz==0.6.1 from git+https://github.com/arviz-devs/arviz in /usr/local/lib/python3.6/dist-packages\n",
            "Requirement already satisfied: pandas>=0.23 in /usr/local/lib/python3.6/dist-packages (from arviz==0.6.1) (0.25.3)\n",
            "Requirement already satisfied: xarray>=0.11 in /usr/local/lib/python3.6/dist-packages (from arviz==0.6.1) (0.14.1)\n",
            "Requirement already satisfied: netcdf4 in /usr/local/lib/python3.6/dist-packages (from arviz==0.6.1) (1.5.3)\n",
            "Requirement already satisfied: numpy>=1.12 in /usr/local/lib/python3.6/dist-packages (from arviz==0.6.1) (1.17.5)\n",
            "Requirement already satisfied: matplotlib>=3.0 in /usr/local/lib/python3.6/dist-packages (from arviz==0.6.1) (3.1.2)\n",
            "Requirement already satisfied: packaging in /usr/local/lib/python3.6/dist-packages (from arviz==0.6.1) (20.0)\n",
            "Requirement already satisfied: scipy>=0.19 in /usr/local/lib/python3.6/dist-packages (from arviz==0.6.1) (1.4.1)\n",
            "Requirement already satisfied: python-dateutil>=2.6.1 in /usr/local/lib/python3.6/dist-packages (from pandas>=0.23->arviz==0.6.1) (2.6.1)\n",
            "Requirement already satisfied: pytz>=2017.2 in /usr/local/lib/python3.6/dist-packages (from pandas>=0.23->arviz==0.6.1) (2018.9)\n",
            "Requirement already satisfied: cftime in /usr/local/lib/python3.6/dist-packages (from netcdf4->arviz==0.6.1) (1.0.4.2)\n",
            "Requirement already satisfied: pyparsing!=2.0.4,!=2.1.2,!=2.1.6,>=2.0.1 in /usr/local/lib/python3.6/dist-packages (from matplotlib>=3.0->arviz==0.6.1) (2.4.6)\n",
            "Requirement already satisfied: kiwisolver>=1.0.1 in /usr/local/lib/python3.6/dist-packages (from matplotlib>=3.0->arviz==0.6.1) (1.1.0)\n",
            "Requirement already satisfied: cycler>=0.10 in /usr/local/lib/python3.6/dist-packages (from matplotlib>=3.0->arviz==0.6.1) (0.10.0)\n",
            "Requirement already satisfied: six in /usr/local/lib/python3.6/dist-packages (from packaging->arviz==0.6.1) (1.12.0)\n",
            "Requirement already satisfied: setuptools in /usr/local/lib/python3.6/dist-packages (from kiwisolver>=1.0.1->matplotlib>=3.0->arviz==0.6.1) (42.0.2)\n",
            "Building wheels for collected packages: arviz\n",
            "  Building wheel for arviz (PEP 517) ... \u001b[?25l\u001b[?25hdone\n",
            "  Created wheel for arviz: filename=arviz-0.6.1-cp36-none-any.whl size=2598802 sha256=1f3e4de3b36ee91b81fcf15797556bec124e2a006af7174f0b8fc937e94e703c\n",
            "  Stored in directory: /tmp/pip-ephem-wheel-cache-dkwq34ur/wheels/93/b7/76/fe5931eb8154ca105ee91ddc249c6e1eaaa7b06988bdf8a400\n",
            "Successfully built arviz\n"
          ],
          "name": "stdout"
        }
      ]
    },
    {
      "cell_type": "markdown",
      "metadata": {
        "id": "0cwbMnuA6fw8",
        "colab_type": "text"
      },
      "source": [
        "https://towardsdatascience.com/calogica-com-dice-polls-dirichlet-multinomials-eca987e6ec3f\n"
      ]
    },
    {
      "cell_type": "code",
      "metadata": {
        "id": "hnO22sQP66r1",
        "colab_type": "code",
        "colab": {}
      },
      "source": [
        "import numpy as np\n",
        "from scipy import stats\n",
        "import pandas as pd\n",
        "\n",
        "import matplotlib.pyplot as plt\n",
        "import seaborn as sns\n",
        "import arviz as arviz\n",
        "import pymc3 as pm"
      ],
      "execution_count": 0,
      "outputs": []
    },
    {
      "cell_type": "code",
      "metadata": {
        "id": "uEBC3Lko7H4F",
        "colab_type": "code",
        "outputId": "cca37051-ff0a-4654-92f4-60fe4e89b681",
        "colab": {
          "base_uri": "https://localhost:8080/",
          "height": 35
        }
      },
      "source": [
        "y = np.asarray([20,  21, 17, 19, 17, 28])\n",
        "k = len(y)\n",
        "p = 1/k\n",
        "n = y.sum()\n",
        "print(n, p)"
      ],
      "execution_count": 40,
      "outputs": [
        {
          "output_type": "stream",
          "text": [
            "122 0.16666666666666666\n"
          ],
          "name": "stdout"
        }
      ]
    },
    {
      "cell_type": "code",
      "metadata": {
        "id": "-1W9h2Cr7Oqa",
        "colab_type": "code",
        "outputId": "d0e9fc37-63ed-4a6c-8f6e-eb5a5e384292",
        "colab": {
          "base_uri": "https://localhost:8080/",
          "height": 265
        }
      },
      "source": [
        "sns.barplot(x=np.arange(1, k+1), y=y);"
      ],
      "execution_count": 33,
      "outputs": [
        {
          "output_type": "display_data",
          "data": {
            "image/png": "[encoded data removed]",
            "text/plain": [
              "<Figure size 432x288 with 1 Axes>"
            ]
          },
          "metadata": {
            "tags": []
          }
        }
      ]
    },
    {
      "cell_type": "code",
      "metadata": {
        "id": "H_n-HVmz7XJ8",
        "colab_type": "code",
        "colab": {}
      },
      "source": [
        "with pm.Model() as dice_model:\n",
        "    \n",
        "    # initializes the Dirichlet distribution with a uniform prior:\n",
        "    a = np.ones(k) \n",
        "    \n",
        "    theta = pm.Dirichlet(\"theta\", a=a)\n",
        "    \n",
        "    # Since theta[5] will hold the posterior probability \n",
        "    # of rolling a 6 we'll compare this to the \n",
        "    # reference value p = 1/6 to determine the amount of bias\n",
        "    # in the die \n",
        "    six_bias = pm.Deterministic(\"six_bias\", theta[k-1] - p)\n",
        "    \n",
        "    results = pm.Multinomial(\"results\", n=n, p=theta, observed=y)"
      ],
      "execution_count": 0,
      "outputs": []
    },
    {
      "cell_type": "code",
      "metadata": {
        "id": "zI0_0zAx8bQG",
        "colab_type": "code",
        "outputId": "3550c8f5-607c-40c0-a5fd-95223870246a",
        "colab": {
          "base_uri": "https://localhost:8080/",
          "height": 249
        }
      },
      "source": [
        "pm.model_to_graphviz(dice_model)"
      ],
      "execution_count": 25,
      "outputs": [
        {
          "output_type": "execute_result",
          "data": {
            "text/plain": [
              "<graphviz.dot.Digraph at 0x7f3ca162a470>"
            ],
            "image/svg+xml": "<?xml version=\"1.0\" encoding=\"UTF-8\" standalone=\"no\"?>\n<!DOCTYPE svg PUBLIC \"-//W3C//DTD SVG 1.1//EN\"\n \"http://www.w3.org/Graphics/SVG/1.1/DTD/svg11.dtd\">\n<!-- Generated by graphviz version 2.40.1 (20161225.0304)\n -->\n<!-- Title: %3 Pages: 1 -->\n<svg width=\"376pt\" height=\"171pt\"\n viewBox=\"0.00 0.00 376.00 171.00\" xmlns=\"http://www.w3.org/2000/svg\" xmlns:xlink=\"http://www.w3.org/1999/xlink\">\n<g id=\"graph0\" class=\"graph\" transform=\"scale(1 1) rotate(0) translate(4 167)\">\n<title>%3</title>\n<polygon fill=\"#ffffff\" stroke=\"transparent\" points=\"-4,4 -4,-167 372,-167 372,4 -4,4\"/>\n<g id=\"clust1\" class=\"cluster\">\n<title>cluster6</title>\n<path fill=\"none\" stroke=\"#000000\" d=\"M20,-8C20,-8 192,-8 192,-8 198,-8 204,-14 204,-20 204,-20 204,-143 204,-143 204,-149 198,-155 192,-155 192,-155 20,-155 20,-155 14,-155 8,-149 8,-143 8,-143 8,-20 8,-20 8,-14 14,-8 20,-8\"/>\n<text text-anchor=\"middle\" x=\"192\" y=\"-15.8\" font-family=\"Times,serif\" font-size=\"14.00\" fill=\"#000000\">6</text>\n</g>\n<!-- results -->\n<g id=\"node1\" class=\"node\">\n<title>results</title>\n<ellipse fill=\"#d3d3d3\" stroke=\"#000000\" cx=\"106\" cy=\"-57\" rx=\"90.1842\" ry=\"18\"/>\n<text text-anchor=\"middle\" x=\"106\" y=\"-53.3\" font-family=\"Times,serif\" font-size=\"14.00\" fill=\"#000000\">results ~ Multinomial</text>\n</g>\n<!-- theta -->\n<g id=\"node2\" class=\"node\">\n<title>theta</title>\n<ellipse fill=\"none\" stroke=\"#000000\" cx=\"116\" cy=\"-129\" rx=\"70.3881\" ry=\"18\"/>\n<text text-anchor=\"middle\" x=\"116\" y=\"-125.3\" font-family=\"Times,serif\" font-size=\"14.00\" fill=\"#000000\">theta ~ Dirichlet</text>\n</g>\n<!-- theta&#45;&gt;results -->\n<g id=\"edge2\" class=\"edge\">\n<title>theta&#45;&gt;results</title>\n<path fill=\"none\" stroke=\"#000000\" d=\"M113.4766,-110.8314C112.4071,-103.131 111.1353,-93.9743 109.9468,-85.4166\"/>\n<polygon fill=\"#000000\" stroke=\"#000000\" points=\"113.3999,-84.8367 108.5574,-75.4133 106.4664,-85.7997 113.3999,-84.8367\"/>\n</g>\n<!-- six_bias -->\n<g id=\"node3\" class=\"node\">\n<title>six_bias</title>\n<polygon fill=\"none\" stroke=\"#000000\" points=\"368,-75 214,-75 214,-39 368,-39 368,-75\"/>\n<text text-anchor=\"middle\" x=\"291\" y=\"-53.3\" font-family=\"Times,serif\" font-size=\"14.00\" fill=\"#000000\">six_bias ~ Deterministic</text>\n</g>\n<!-- theta&#45;&gt;six_bias -->\n<g id=\"edge1\" class=\"edge\">\n<title>theta&#45;&gt;six_bias</title>\n<path fill=\"none\" stroke=\"#000000\" d=\"M153.5419,-113.5542C178.0679,-103.4635 210.4691,-90.1327 237.6534,-78.9483\"/>\n<polygon fill=\"#000000\" stroke=\"#000000\" points=\"239.1137,-82.1322 247.0298,-75.0906 236.4502,-75.6587 239.1137,-82.1322\"/>\n</g>\n</g>\n</svg>\n"
          },
          "metadata": {
            "tags": []
          },
          "execution_count": 25
        }
      ]
    },
    {
      "cell_type": "code",
      "metadata": {
        "id": "JaXaIsVZ8mZB",
        "colab_type": "code",
        "colab": {
          "base_uri": "https://localhost:8080/",
          "height": 125
        },
        "outputId": "e292b6fe-8a30-4114-f015-3e6cba4b0149"
      },
      "source": [
        "with dice_model:\n",
        "    dice_trace = pm.sample(draws=1000) "
      ],
      "execution_count": 42,
      "outputs": [
        {
          "output_type": "stream",
          "text": [
            "Auto-assigning NUTS sampler...\n",
            "Initializing NUTS using jitter+adapt_diag...\n",
            "Sequential sampling (2 chains in 1 job)\n",
            "NUTS: [theta]\n",
            "100%|██████████| 1500/1500 [00:01<00:00, 795.13it/s]\n",
            "100%|██████████| 1500/1500 [00:01<00:00, 798.42it/s]\n"
          ],
          "name": "stderr"
        }
      ]
    },
    {
      "cell_type": "markdown",
      "metadata": {
        "id": "XgBezM5EAwHp",
        "colab_type": "text"
      },
      "source": [
        "polling analysis into elections - candidate A, candidate B, other"
      ]
    },
    {
      "cell_type": "code",
      "metadata": {
        "id": "jjtcYHlV_rm5",
        "colab_type": "code",
        "colab": {}
      },
      "source": [
        "y = np.asarray([727, 583, 137])\n",
        "n = y.sum()\n",
        "k = len(y)"
      ],
      "execution_count": 0,
      "outputs": []
    },
    {
      "cell_type": "code",
      "metadata": {
        "id": "78iClfpvACZo",
        "colab_type": "code",
        "colab": {
          "base_uri": "https://localhost:8080/",
          "height": 249
        },
        "outputId": "d3072073-2990-42ba-8e1e-c88b545f0265"
      },
      "source": [
        "with pm.Model() as polling_model:\n",
        "    \n",
        "    # initializes the Dirichlet distribution with a uniform prior:\n",
        "    a = np.ones(k) \n",
        "    \n",
        "    theta = pm.Dirichlet(\"theta\", a=a)\n",
        "    \n",
        "    bush_dukakis_diff = pm.Deterministic(\"bush_dukakis_diff\",\n",
        "                                          theta[0] - theta[1])\n",
        "    \n",
        "    likelihood = pm.Multinomial(\"likelihood\", \n",
        "                                 n=n, \n",
        "                                 p=theta, \n",
        "                                 observed=y)\n",
        "pm.model_to_graphviz(polling_model)"
      ],
      "execution_count": 50,
      "outputs": [
        {
          "output_type": "execute_result",
          "data": {
            "text/plain": [
              "<graphviz.dot.Digraph at 0x7f3c9c907d68>"
            ],
            "image/svg+xml": "<?xml version=\"1.0\" encoding=\"UTF-8\" standalone=\"no\"?>\n<!DOCTYPE svg PUBLIC \"-//W3C//DTD SVG 1.1//EN\"\n \"http://www.w3.org/Graphics/SVG/1.1/DTD/svg11.dtd\">\n<!-- Generated by graphviz version 2.40.1 (20161225.0304)\n -->\n<!-- Title: %3 Pages: 1 -->\n<svg width=\"467pt\" height=\"171pt\"\n viewBox=\"0.00 0.00 466.50 171.00\" xmlns=\"http://www.w3.org/2000/svg\" xmlns:xlink=\"http://www.w3.org/1999/xlink\">\n<g id=\"graph0\" class=\"graph\" transform=\"scale(1 1) rotate(0) translate(4 167)\">\n<title>%3</title>\n<polygon fill=\"#ffffff\" stroke=\"transparent\" points=\"-4,4 -4,-167 462.5,-167 462.5,4 -4,4\"/>\n<g id=\"clust1\" class=\"cluster\">\n<title>cluster3</title>\n<path fill=\"none\" stroke=\"#000000\" d=\"M20,-8C20,-8 222,-8 222,-8 228,-8 234,-14 234,-20 234,-20 234,-143 234,-143 234,-149 228,-155 222,-155 222,-155 20,-155 20,-155 14,-155 8,-149 8,-143 8,-143 8,-20 8,-20 8,-14 14,-8 20,-8\"/>\n<text text-anchor=\"middle\" x=\"222\" y=\"-15.8\" font-family=\"Times,serif\" font-size=\"14.00\" fill=\"#000000\">3</text>\n</g>\n<!-- theta -->\n<g id=\"node1\" class=\"node\">\n<title>theta</title>\n<ellipse fill=\"none\" stroke=\"#000000\" cx=\"138\" cy=\"-129\" rx=\"70.3881\" ry=\"18\"/>\n<text text-anchor=\"middle\" x=\"138\" y=\"-125.3\" font-family=\"Times,serif\" font-size=\"14.00\" fill=\"#000000\">theta ~ Dirichlet</text>\n</g>\n<!-- likelihood -->\n<g id=\"node2\" class=\"node\">\n<title>likelihood</title>\n<ellipse fill=\"#d3d3d3\" stroke=\"#000000\" cx=\"121\" cy=\"-57\" rx=\"104.7816\" ry=\"18\"/>\n<text text-anchor=\"middle\" x=\"121\" y=\"-53.3\" font-family=\"Times,serif\" font-size=\"14.00\" fill=\"#000000\">likelihood ~ Multinomial</text>\n</g>\n<!-- theta&#45;&gt;likelihood -->\n<g id=\"edge2\" class=\"edge\">\n<title>theta&#45;&gt;likelihood</title>\n<path fill=\"none\" stroke=\"#000000\" d=\"M133.7102,-110.8314C131.892,-103.131 129.7301,-93.9743 127.7095,-85.4166\"/>\n<polygon fill=\"#000000\" stroke=\"#000000\" points=\"131.0519,-84.3414 125.3476,-75.4133 124.2392,-85.95 131.0519,-84.3414\"/>\n</g>\n<!-- bush_dukakis_diff -->\n<g id=\"node3\" class=\"node\">\n<title>bush_dukakis_diff</title>\n<polygon fill=\"none\" stroke=\"#000000\" points=\"458.5,-75 243.5,-75 243.5,-39 458.5,-39 458.5,-75\"/>\n<text text-anchor=\"middle\" x=\"351\" y=\"-53.3\" font-family=\"Times,serif\" font-size=\"14.00\" fill=\"#000000\">bush_dukakis_diff ~ Deterministic</text>\n</g>\n<!-- theta&#45;&gt;bush_dukakis_diff -->\n<g id=\"edge1\" class=\"edge\">\n<title>theta&#45;&gt;bush_dukakis_diff</title>\n<path fill=\"none\" stroke=\"#000000\" d=\"M180.5918,-114.6028C211.3307,-104.2122 253.3412,-90.0114 287.9578,-78.31\"/>\n<polygon fill=\"#000000\" stroke=\"#000000\" points=\"289.1574,-81.5992 297.5099,-75.0811 286.9157,-74.9678 289.1574,-81.5992\"/>\n</g>\n</g>\n</svg>\n"
          },
          "metadata": {
            "tags": []
          },
          "execution_count": 50
        }
      ]
    },
    {
      "cell_type": "code",
      "metadata": {
        "id": "C80iUx76AN7b",
        "colab_type": "code",
        "colab": {
          "base_uri": "https://localhost:8080/",
          "height": 125
        },
        "outputId": "30d81dbd-6cb9-4a93-b661-83ddd870cf57"
      },
      "source": [
        "with polling_model:\n",
        "    polling_trace = pm.sample(draws=1000)"
      ],
      "execution_count": 51,
      "outputs": [
        {
          "output_type": "stream",
          "text": [
            "Auto-assigning NUTS sampler...\n",
            "Initializing NUTS using jitter+adapt_diag...\n",
            "Sequential sampling (2 chains in 1 job)\n",
            "NUTS: [theta]\n",
            "100%|██████████| 1500/1500 [00:01<00:00, 862.07it/s]\n",
            "100%|██████████| 1500/1500 [00:01<00:00, 1083.05it/s]\n"
          ],
          "name": "stderr"
        }
      ]
    },
    {
      "cell_type": "code",
      "metadata": {
        "id": "LSj8YuMRATYo",
        "colab_type": "code",
        "colab": {
          "base_uri": "https://localhost:8080/",
          "height": 478
        },
        "outputId": "c1f56ec7-dd5f-4726-d5dd-dc32f0bb4db4"
      },
      "source": [
        "_, ax = plt.subplots(1,1, figsize=(10, 6))\n",
        "sns.distplot(polling_trace[\"bush_dukakis_diff\"], \n",
        "     bins=20, ax=ax, kde=False, fit=stats.beta)\n",
        "ax.axvline(0, c='g', linestyle='dotted')\n",
        "ax.set_title(\"% Difference Bush vs Dukakis\")\n",
        "ax.set_xlabel(\"% Difference\");"
      ],
      "execution_count": 52,
      "outputs": [
        {
          "output_type": "stream",
          "text": [
            "/usr/local/lib/python3.6/dist-packages/scipy/optimize/minpack.py:162: RuntimeWarning: The iteration is not making good progress, as measured by the \n",
            "  improvement from the last ten iterations.\n",
            "  warnings.warn(msg, RuntimeWarning)\n"
          ],
          "name": "stderr"
        },
        {
          "output_type": "display_data",
          "data": {
            "image/png": "[encoded data removed]",
            "text/plain": [
              "<Figure size 720x432 with 1 Axes>"
            ]
          },
          "metadata": {
            "tags": []
          }
        }
      ]
    },
    {
      "cell_type": "code",
      "metadata": {
        "id": "SoKNy5yNApDR",
        "colab_type": "code",
        "colab": {
          "base_uri": "https://localhost:8080/",
          "height": 35
        },
        "outputId": "978f11b0-6775-43b4-f923-01f32117792c"
      },
      "source": [
        "diff = polling_trace[\"bush_dukakis_diff\"]\n",
        "bush_dukakis_diff_perc = len(diff[diff>0])/len(diff)\n",
        "      \n",
        "print(f'P(More Responses for Bush) = {bush_dukakis_diff_perc:.0%}')\n"
      ],
      "execution_count": 53,
      "outputs": [
        {
          "output_type": "stream",
          "text": [
            "P(More Responses for Bush) = 100%\n"
          ],
          "name": "stdout"
        }
      ]
    },
    {
      "cell_type": "markdown",
      "metadata": {
        "id": "NQ-GjFQbFJAa",
        "colab_type": "text"
      },
      "source": [
        "pre and post debate or two polls in time "
      ]
    },
    {
      "cell_type": "code",
      "metadata": {
        "id": "ZVQYzTdaBE_X",
        "colab_type": "code",
        "colab": {
          "base_uri": "https://localhost:8080/",
          "height": 89
        },
        "outputId": "3ae7bdfd-c9c0-4ec9-9c00-1205caeaade1"
      },
      "source": [
        "data = pd.DataFrame([\n",
        "        {\"candidate\": \"bush\", \"pre\": 294, \"post\": 278},\n",
        "        {\"candidate\": \"dukakis\", \"pre\": 307, \"post\": 322},\n",
        "        {\"candidate\": \"other\", \"pre\": 38, \"post\": 10}\n",
        "       ], columns=[\"candidate\", \"pre\", \"post\"])\n",
        "\n",
        "print(data.head())"
      ],
      "execution_count": 73,
      "outputs": [
        {
          "output_type": "stream",
          "text": [
            "  candidate  pre  post\n",
            "0      bush  294   278\n",
            "1   dukakis  307   322\n",
            "2     other   38    10\n"
          ],
          "name": "stdout"
        }
      ]
    },
    {
      "cell_type": "code",
      "metadata": {
        "id": "DI_iJYqKBaoV",
        "colab_type": "code",
        "colab": {
          "base_uri": "https://localhost:8080/",
          "height": 53
        },
        "outputId": "59c15a8c-f2b5-4ad4-c51a-d4e92d50fe4b"
      },
      "source": [
        "y = data[[\"pre\", \"post\"]].T.values\n",
        "print(y) "
      ],
      "execution_count": 74,
      "outputs": [
        {
          "output_type": "stream",
          "text": [
            "[[294 307  38]\n",
            " [278 322  10]]\n"
          ],
          "name": "stdout"
        }
      ]
    },
    {
      "cell_type": "code",
      "metadata": {
        "id": "aQRIR0lLBdlL",
        "colab_type": "code",
        "colab": {
          "base_uri": "https://localhost:8080/",
          "height": 35
        },
        "outputId": "56cce8fd-bc6e-4582-ed83-5d42bf676693"
      },
      "source": [
        "# Number of respondents in each survey:\n",
        "n = y.sum(axis=1) \n",
        "print(n)"
      ],
      "execution_count": 75,
      "outputs": [
        {
          "output_type": "stream",
          "text": [
            "[639 610]\n"
          ],
          "name": "stdout"
        }
      ]
    },
    {
      "cell_type": "code",
      "metadata": {
        "id": "lR85_ruSBxHK",
        "colab_type": "code",
        "colab": {
          "base_uri": "https://localhost:8080/",
          "height": 35
        },
        "outputId": "dcaf3656-9b59-4b26-a80a-8aa99baa31c4"
      },
      "source": [
        "# Number of respondents for the 2 major candidates in each survey:\n",
        "m = y[:, :2].sum(axis=1) \n",
        "print(m) "
      ],
      "execution_count": 77,
      "outputs": [
        {
          "output_type": "stream",
          "text": [
            "[601 600]\n"
          ],
          "name": "stdout"
        }
      ]
    },
    {
      "cell_type": "code",
      "metadata": {
        "id": "U6BaFmtKB-hD",
        "colab_type": "code",
        "colab": {
          "base_uri": "https://localhost:8080/",
          "height": 35
        },
        "outputId": "4e680c02-71a0-40a7-e5b9-94cef5847775"
      },
      "source": [
        "n_debates, n_candidates = y.shape\n",
        "print(n_debates, n_candidates) "
      ],
      "execution_count": 78,
      "outputs": [
        {
          "output_type": "stream",
          "text": [
            "2 3\n"
          ],
          "name": "stdout"
        }
      ]
    },
    {
      "cell_type": "code",
      "metadata": {
        "id": "lEz86lMeCE7n",
        "colab_type": "code",
        "colab": {
          "base_uri": "https://localhost:8080/",
          "height": 73
        },
        "outputId": "c61b3ed4-1ff0-4cc0-90c6-9db3da21976e"
      },
      "source": [
        "with pm.Model() as polling_model_debates:\n",
        "    \n",
        "    # initializes the Dirichlet distribution with a uniform prior:\n",
        "    shape = (n_debates, n_candidates)\n",
        "    a = np.ones(shape)\n",
        "    \n",
        "    # This creates a separate Dirichlet distribution for each debate\n",
        "    # where sum of probabilities across candidates = 100% \n",
        "    # for each debate\n",
        "    theta = pm.Dirichlet(\"theta\", a=a, shape=shape)\n",
        "    \n",
        "    # get the \"Bush\" theta for each debate, at index=0\n",
        "    # and normalize across supporters for the 2 major candidates\n",
        "    bush_pref = pm.Deterministic(\"bush_pref\", theta[:, 0] * n / m)\n",
        "    \n",
        "    # to calculate probability that support for Bush \n",
        "    # shifted from debate 1 [0] to 2 [1]\n",
        "    bush_shift = pm.Deterministic(\"bush_shift\", \n",
        "        bush_pref[1]-bush_pref[0])\n",
        "    \n",
        "    # because of the shapes of the inputs, \n",
        "    # this essentially creates 2 multinomials, \n",
        "    # one for each debate\n",
        "    responses = pm.Multinomial(\"responses\", \n",
        "        n=n, p=theta, observed=y)"
      ],
      "execution_count": 79,
      "outputs": [
        {
          "output_type": "stream",
          "text": [
            "/usr/local/lib/python3.6/dist-packages/theano/tensor/subtensor.py:2197: FutureWarning: Using a non-tuple sequence for multidimensional indexing is deprecated; use `arr[tuple(seq)]` instead of `arr[seq]`. In the future this will be interpreted as an array index, `arr[np.array(seq)]`, which will result either in an error or a different result.\n",
            "  rval = inputs[0].__getitem__(inputs[1:])\n"
          ],
          "name": "stderr"
        }
      ]
    },
    {
      "cell_type": "code",
      "metadata": {
        "id": "hW92cOM4Chmq",
        "colab_type": "code",
        "colab": {
          "base_uri": "https://localhost:8080/",
          "height": 89
        },
        "outputId": "e4cd4c14-3539-421c-c06c-3aa62afd2fa4"
      },
      "source": [
        "for v in polling_model_debates.unobserved_RVs:\n",
        "    print(v, v.tag.test_value.shape)"
      ],
      "execution_count": 80,
      "outputs": [
        {
          "output_type": "stream",
          "text": [
            "theta_stickbreaking__ (2, 2)\n",
            "theta (2, 3)\n",
            "bush_pref (2,)\n",
            "bush_shift ()\n"
          ],
          "name": "stdout"
        }
      ]
    },
    {
      "cell_type": "code",
      "metadata": {
        "id": "7Yl6PQH2CoLw",
        "colab_type": "code",
        "colab": {
          "base_uri": "https://localhost:8080/",
          "height": 297
        },
        "outputId": "ba2bf193-0056-413c-924f-b47089967e1e"
      },
      "source": [
        "pm.model_to_graphviz(polling_model_debates)"
      ],
      "execution_count": 81,
      "outputs": [
        {
          "output_type": "execute_result",
          "data": {
            "text/plain": [
              "<graphviz.dot.Digraph at 0x7f3c817e1668>"
            ],
            "image/svg+xml": "<?xml version=\"1.0\" encoding=\"UTF-8\" standalone=\"no\"?>\n<!DOCTYPE svg PUBLIC \"-//W3C//DTD SVG 1.1//EN\"\n \"http://www.w3.org/Graphics/SVG/1.1/DTD/svg11.dtd\">\n<!-- Generated by graphviz version 2.40.1 (20161225.0304)\n -->\n<!-- Title: %3 Pages: 1 -->\n<svg width=\"436pt\" height=\"207pt\"\n viewBox=\"0.00 0.00 436.00 207.00\" xmlns=\"http://www.w3.org/2000/svg\" xmlns:xlink=\"http://www.w3.org/1999/xlink\">\n<g id=\"graph0\" class=\"graph\" transform=\"scale(1 1) rotate(0) translate(4 203)\">\n<title>%3</title>\n<polygon fill=\"#ffffff\" stroke=\"transparent\" points=\"-4,4 -4,-203 432,-203 432,4 -4,4\"/>\n<g id=\"clust1\" class=\"cluster\">\n<title>cluster2 x 3</title>\n<path fill=\"none\" stroke=\"#000000\" d=\"M20,-44C20,-44 218,-44 218,-44 224,-44 230,-50 230,-56 230,-56 230,-179 230,-179 230,-185 224,-191 218,-191 218,-191 20,-191 20,-191 14,-191 8,-185 8,-179 8,-179 8,-56 8,-56 8,-50 14,-44 20,-44\"/>\n<text text-anchor=\"middle\" x=\"206.5\" y=\"-51.8\" font-family=\"Times,serif\" font-size=\"14.00\" fill=\"#000000\">2 x 3</text>\n</g>\n<g id=\"clust2\" class=\"cluster\">\n<title>cluster2</title>\n<path fill=\"none\" stroke=\"#000000\" d=\"M250,-44C250,-44 408,-44 408,-44 414,-44 420,-50 420,-56 420,-56 420,-107 420,-107 420,-113 414,-119 408,-119 408,-119 250,-119 250,-119 244,-119 238,-113 238,-107 238,-107 238,-56 238,-56 238,-50 244,-44 250,-44\"/>\n<text text-anchor=\"middle\" x=\"408\" y=\"-51.8\" font-family=\"Times,serif\" font-size=\"14.00\" fill=\"#000000\">2</text>\n</g>\n<!-- theta -->\n<g id=\"node1\" class=\"node\">\n<title>theta</title>\n<ellipse fill=\"none\" stroke=\"#000000\" cx=\"135\" cy=\"-165\" rx=\"70.3881\" ry=\"18\"/>\n<text text-anchor=\"middle\" x=\"135\" y=\"-161.3\" font-family=\"Times,serif\" font-size=\"14.00\" fill=\"#000000\">theta ~ Dirichlet</text>\n</g>\n<!-- responses -->\n<g id=\"node2\" class=\"node\">\n<title>responses</title>\n<ellipse fill=\"#d3d3d3\" stroke=\"#000000\" cx=\"119\" cy=\"-93\" rx=\"102.8821\" ry=\"18\"/>\n<text text-anchor=\"middle\" x=\"119\" y=\"-89.3\" font-family=\"Times,serif\" font-size=\"14.00\" fill=\"#000000\">responses ~ Multinomial</text>\n</g>\n<!-- theta&#45;&gt;responses -->\n<g id=\"edge3\" class=\"edge\">\n<title>theta&#45;&gt;responses</title>\n<path fill=\"none\" stroke=\"#000000\" d=\"M130.9625,-146.8314C129.2513,-139.131 127.2165,-129.9743 125.3148,-121.4166\"/>\n<polygon fill=\"#000000\" stroke=\"#000000\" points=\"128.6779,-120.4159 123.0918,-111.4133 121.8446,-121.9344 128.6779,-120.4159\"/>\n</g>\n<!-- bush_pref -->\n<g id=\"node3\" class=\"node\">\n<title>bush_pref</title>\n<polygon fill=\"none\" stroke=\"#000000\" points=\"411.5,-111 246.5,-111 246.5,-75 411.5,-75 411.5,-111\"/>\n<text text-anchor=\"middle\" x=\"329\" y=\"-89.3\" font-family=\"Times,serif\" font-size=\"14.00\" fill=\"#000000\">bush_pref ~ Deterministic</text>\n</g>\n<!-- theta&#45;&gt;bush_pref -->\n<g id=\"edge1\" class=\"edge\">\n<title>theta&#45;&gt;bush_pref</title>\n<path fill=\"none\" stroke=\"#000000\" d=\"M175.1969,-150.0816C202.737,-139.8605 239.7093,-126.1388 270.5021,-114.7106\"/>\n<polygon fill=\"#000000\" stroke=\"#000000\" points=\"272.1054,-117.8488 280.2628,-111.088 269.6698,-111.2862 272.1054,-117.8488\"/>\n</g>\n<!-- bush_shift -->\n<g id=\"node4\" class=\"node\">\n<title>bush_shift</title>\n<polygon fill=\"none\" stroke=\"#000000\" points=\"412.5,-36 245.5,-36 245.5,0 412.5,0 412.5,-36\"/>\n<text text-anchor=\"middle\" x=\"329\" y=\"-14.3\" font-family=\"Times,serif\" font-size=\"14.00\" fill=\"#000000\">bush_shift ~ Deterministic</text>\n</g>\n<!-- bush_pref&#45;&gt;bush_shift -->\n<g id=\"edge2\" class=\"edge\">\n<title>bush_pref&#45;&gt;bush_shift</title>\n<path fill=\"none\" stroke=\"#000000\" d=\"M329,-74.8446C329,-66.3401 329,-56.0076 329,-46.4964\"/>\n<polygon fill=\"#000000\" stroke=\"#000000\" points=\"332.5001,-46.2481 329,-36.2482 325.5001,-46.2482 332.5001,-46.2481\"/>\n</g>\n</g>\n</svg>\n"
          },
          "metadata": {
            "tags": []
          },
          "execution_count": 81
        }
      ]
    },
    {
      "cell_type": "code",
      "metadata": {
        "id": "SjYC8JR2CwP1",
        "colab_type": "code",
        "colab": {
          "base_uri": "https://localhost:8080/",
          "height": 125
        },
        "outputId": "8624b8d0-e158-4dc9-a136-2f56132b354b"
      },
      "source": [
        "with polling_model_debates:\n",
        "    polling_trace_debates = pm.sample(draws=3000, tune=1500)"
      ],
      "execution_count": 82,
      "outputs": [
        {
          "output_type": "stream",
          "text": [
            "Auto-assigning NUTS sampler...\n",
            "Initializing NUTS using jitter+adapt_diag...\n",
            "Sequential sampling (2 chains in 1 job)\n",
            "NUTS: [theta]\n",
            "100%|██████████| 4500/4500 [00:06<00:00, 713.18it/s]\n",
            "100%|██████████| 4500/4500 [00:05<00:00, 809.62it/s]\n"
          ],
          "name": "stderr"
        }
      ]
    },
    {
      "cell_type": "code",
      "metadata": {
        "id": "7Kr37vhHDemO",
        "colab_type": "code",
        "colab": {
          "base_uri": "https://localhost:8080/",
          "height": 539
        },
        "outputId": "103d3fc4-ab7c-4205-8e65-43427f0393f4"
      },
      "source": [
        "import arviz as arviz\n",
        "with polling_model_debates:\n",
        "    pm.traceplot(polling_trace_debates, combined=True)"
      ],
      "execution_count": 85,
      "outputs": [
        {
          "output_type": "error",
          "ename": "ImportError",
          "evalue": "ignored",
          "traceback": [
            "\u001b[0;31m---------------------------------------------------------------------------\u001b[0m",
            "\u001b[0;31mImportError\u001b[0m                               Traceback (most recent call last)",
            "\u001b[0;32m<ipython-input-85-4f8f87b69fa3>\u001b[0m in \u001b[0;36m<module>\u001b[0;34m()\u001b[0m\n\u001b[1;32m      1\u001b[0m \u001b[0;32mimport\u001b[0m \u001b[0marviz\u001b[0m \u001b[0;32mas\u001b[0m \u001b[0marviz\u001b[0m\u001b[0;34m\u001b[0m\u001b[0;34m\u001b[0m\u001b[0m\n\u001b[1;32m      2\u001b[0m \u001b[0;32mwith\u001b[0m \u001b[0mpolling_model_debates\u001b[0m\u001b[0;34m:\u001b[0m\u001b[0;34m\u001b[0m\u001b[0;34m\u001b[0m\u001b[0m\n\u001b[0;32m----> 3\u001b[0;31m     \u001b[0mpm\u001b[0m\u001b[0;34m.\u001b[0m\u001b[0mtraceplot\u001b[0m\u001b[0;34m(\u001b[0m\u001b[0mpolling_trace_debates\u001b[0m\u001b[0;34m,\u001b[0m \u001b[0mcombined\u001b[0m\u001b[0;34m=\u001b[0m\u001b[0;32mTrue\u001b[0m\u001b[0;34m)\u001b[0m\u001b[0;34m\u001b[0m\u001b[0;34m\u001b[0m\u001b[0m\n\u001b[0m",
            "\u001b[0;32m/usr/local/lib/python3.6/dist-packages/pymc3/plots/__init__.py\u001b[0m in \u001b[0;36mwrapped\u001b[0;34m(*args, **kwargs)\u001b[0m\n\u001b[1;32m     40\u001b[0m                 \u001b[0mwarnings\u001b[0m\u001b[0;34m.\u001b[0m\u001b[0mwarn\u001b[0m\u001b[0;34m(\u001b[0m\u001b[0;34m'Keyword argument `{old}` renamed to `{new}`, and will be removed in pymc3 3.8'\u001b[0m\u001b[0;34m.\u001b[0m\u001b[0mformat\u001b[0m\u001b[0;34m(\u001b[0m\u001b[0mold\u001b[0m\u001b[0;34m=\u001b[0m\u001b[0mold\u001b[0m\u001b[0;34m,\u001b[0m \u001b[0mnew\u001b[0m\u001b[0;34m=\u001b[0m\u001b[0mnew\u001b[0m\u001b[0;34m)\u001b[0m\u001b[0;34m)\u001b[0m\u001b[0;34m\u001b[0m\u001b[0;34m\u001b[0m\u001b[0m\n\u001b[1;32m     41\u001b[0m                 \u001b[0mkwargs\u001b[0m\u001b[0;34m[\u001b[0m\u001b[0mnew\u001b[0m\u001b[0;34m]\u001b[0m \u001b[0;34m=\u001b[0m \u001b[0mkwargs\u001b[0m\u001b[0;34m.\u001b[0m\u001b[0mpop\u001b[0m\u001b[0;34m(\u001b[0m\u001b[0mold\u001b[0m\u001b[0;34m)\u001b[0m\u001b[0;34m\u001b[0m\u001b[0;34m\u001b[0m\u001b[0m\n\u001b[0;32m---> 42\u001b[0;31m             \u001b[0;32mreturn\u001b[0m \u001b[0mfunc\u001b[0m\u001b[0;34m(\u001b[0m\u001b[0;34m*\u001b[0m\u001b[0margs\u001b[0m\u001b[0;34m,\u001b[0m \u001b[0;34m**\u001b[0m\u001b[0mkwargs\u001b[0m\u001b[0;34m)\u001b[0m\u001b[0;34m\u001b[0m\u001b[0;34m\u001b[0m\u001b[0m\n\u001b[0m\u001b[1;32m     43\u001b[0m     \u001b[0;32mreturn\u001b[0m \u001b[0mwrapped\u001b[0m\u001b[0;34m\u001b[0m\u001b[0;34m\u001b[0m\u001b[0m\n\u001b[1;32m     44\u001b[0m \u001b[0;34m\u001b[0m\u001b[0m\n",
            "\u001b[0;32m/usr/local/lib/python3.6/dist-packages/pymc3/plots/__init__.py\u001b[0m in \u001b[0;36m__call__\u001b[0;34m(self, *args, **kwargs)\u001b[0m\n\u001b[1;32m     20\u001b[0m         \u001b[0;32mdef\u001b[0m \u001b[0m__call__\u001b[0m\u001b[0;34m(\u001b[0m\u001b[0mself\u001b[0m\u001b[0;34m,\u001b[0m \u001b[0;34m*\u001b[0m\u001b[0margs\u001b[0m\u001b[0;34m,\u001b[0m \u001b[0;34m**\u001b[0m\u001b[0mkwargs\u001b[0m\u001b[0;34m)\u001b[0m\u001b[0;34m:\u001b[0m\u001b[0;34m\u001b[0m\u001b[0;34m\u001b[0m\u001b[0m\n\u001b[1;32m     21\u001b[0m             raise ImportError(\n\u001b[0;32m---> 22\u001b[0;31m                 \u001b[0;34m\"ArviZ is not installed. In order to use `{0.attr}`:\\npip install arviz\"\u001b[0m\u001b[0;34m.\u001b[0m\u001b[0mformat\u001b[0m\u001b[0;34m(\u001b[0m\u001b[0mself\u001b[0m\u001b[0;34m)\u001b[0m\u001b[0;34m\u001b[0m\u001b[0;34m\u001b[0m\u001b[0m\n\u001b[0m\u001b[1;32m     23\u001b[0m             )\n\u001b[1;32m     24\u001b[0m \u001b[0;34m\u001b[0m\u001b[0m\n",
            "\u001b[0;31mImportError\u001b[0m: ArviZ is not installed. In order to use `plot_trace`:\npip install arviz",
            "",
            "\u001b[0;31m---------------------------------------------------------------------------\u001b[0;32m\nNOTE: If your import is failing due to a missing package, you can\nmanually install dependencies using either !pip or !apt.\n\nTo view examples of installing some common dependencies, click the\n\"Open Examples\" button below.\n\u001b[0;31m---------------------------------------------------------------------------\u001b[0m\n"
          ]
        }
      ]
    },
    {
      "cell_type": "code",
      "metadata": {
        "id": "Et_kG41PEVqQ",
        "colab_type": "code",
        "colab": {
          "base_uri": "https://localhost:8080/",
          "height": 111
        },
        "outputId": "727411a2-f441-4c3f-e788-246889368a0b"
      },
      "source": [
        "s = [\"pre\", \"post\"]\n",
        "candidates = data[\"candidate\"].values\n",
        "pd.DataFrame(polling_trace_debates[\"theta\"].mean(axis=0), \n",
        "    index=s, \n",
        "    columns=candidates)"
      ],
      "execution_count": 86,
      "outputs": [
        {
          "output_type": "execute_result",
          "data": {
            "text/html": [
              "<div>\n",
              "<style scoped>\n",
              "    .dataframe tbody tr th:only-of-type {\n",
              "        vertical-align: middle;\n",
              "    }\n",
              "\n",
              "    .dataframe tbody tr th {\n",
              "        vertical-align: top;\n",
              "    }\n",
              "\n",
              "    .dataframe thead th {\n",
              "        text-align: right;\n",
              "    }\n",
              "</style>\n",
              "<table border=\"1\" class=\"dataframe\">\n",
              "  <thead>\n",
              "    <tr style=\"text-align: right;\">\n",
              "      <th></th>\n",
              "      <th>bush</th>\n",
              "      <th>dukakis</th>\n",
              "      <th>other</th>\n",
              "    </tr>\n",
              "  </thead>\n",
              "  <tbody>\n",
              "    <tr>\n",
              "      <th>pre</th>\n",
              "      <td>0.459349</td>\n",
              "      <td>0.479898</td>\n",
              "      <td>0.060753</td>\n",
              "    </tr>\n",
              "    <tr>\n",
              "      <th>post</th>\n",
              "      <td>0.455219</td>\n",
              "      <td>0.526775</td>\n",
              "      <td>0.018006</td>\n",
              "    </tr>\n",
              "  </tbody>\n",
              "</table>\n",
              "</div>"
            ],
            "text/plain": [
              "          bush   dukakis     other\n",
              "pre   0.459349  0.479898  0.060753\n",
              "post  0.455219  0.526775  0.018006"
            ]
          },
          "metadata": {
            "tags": []
          },
          "execution_count": 86
        }
      ]
    },
    {
      "cell_type": "code",
      "metadata": {
        "id": "BHInCyOTElMa",
        "colab_type": "code",
        "colab": {
          "base_uri": "https://localhost:8080/",
          "height": 111
        },
        "outputId": "396e71ec-b74f-436f-bf8f-7ffc0223a22c"
      },
      "source": [
        "pd.DataFrame(polling_trace_debates[\"bush_pref\"].mean(axis=0),  \n",
        "    index=s, columns=[\"bush_pref\"])"
      ],
      "execution_count": 87,
      "outputs": [
        {
          "output_type": "execute_result",
          "data": {
            "text/html": [
              "<div>\n",
              "<style scoped>\n",
              "    .dataframe tbody tr th:only-of-type {\n",
              "        vertical-align: middle;\n",
              "    }\n",
              "\n",
              "    .dataframe tbody tr th {\n",
              "        vertical-align: top;\n",
              "    }\n",
              "\n",
              "    .dataframe thead th {\n",
              "        text-align: right;\n",
              "    }\n",
              "</style>\n",
              "<table border=\"1\" class=\"dataframe\">\n",
              "  <thead>\n",
              "    <tr style=\"text-align: right;\">\n",
              "      <th></th>\n",
              "      <th>bush_pref</th>\n",
              "    </tr>\n",
              "  </thead>\n",
              "  <tbody>\n",
              "    <tr>\n",
              "      <th>pre</th>\n",
              "      <td>0.488393</td>\n",
              "    </tr>\n",
              "    <tr>\n",
              "      <th>post</th>\n",
              "      <td>0.462806</td>\n",
              "    </tr>\n",
              "  </tbody>\n",
              "</table>\n",
              "</div>"
            ],
            "text/plain": [
              "      bush_pref\n",
              "pre    0.488393\n",
              "post   0.462806"
            ]
          },
          "metadata": {
            "tags": []
          },
          "execution_count": 87
        }
      ]
    },
    {
      "cell_type": "code",
      "metadata": {
        "id": "a2lqU7mHEorU",
        "colab_type": "code",
        "colab": {
          "base_uri": "https://localhost:8080/",
          "height": 621
        },
        "outputId": "f21f53c2-5843-47e2-c4f1-338395f58a56"
      },
      "source": [
        "_, ax = plt.subplots(2,1, figsize=(10, 10))\n",
        "sns.distplot(polling_trace_debates[\"bush_pref\"][:,0], \n",
        "    hist=False, ax=ax[0], label=\"Pre-Debate\")\n",
        "sns.distplot(polling_trace_debates[\"bush_pref\"][:,1], \n",
        "    hist=False, ax=ax[0], label=\"Post-Debate\")\n",
        "ax[0].set_title(\"% Responses for Bush vs Dukakis\")\n",
        "ax[0].set_xlabel(\"% Responses\");\n",
        "sns.distplot(polling_trace_debates[\"bush_shift\"], \n",
        "    hist=True, ax=ax[1], label=\"P(Bush Shift)\")\n",
        "ax[1].axvline(0, c='g', linestyle='dotted')\n",
        "ax[1].set_title(\"% Shift Pre/Prior Debate\")\n",
        "ax[1].set_xlabel(\"% Shift\");"
      ],
      "execution_count": 88,
      "outputs": [
        {
          "output_type": "display_data",
          "data": {
            "image/png": "[encoded data removed]",
            "text/plain": [
              "<Figure size 720x720 with 2 Axes>"
            ]
          },
          "metadata": {
            "tags": []
          }
        }
      ]
    },
    {
      "cell_type": "code",
      "metadata": {
        "id": "G6nG3r4WE3by",
        "colab_type": "code",
        "colab": {
          "base_uri": "https://localhost:8080/",
          "height": 35
        },
        "outputId": "2e85ba77-2eed-4b99-9057-c388eb73f5a4"
      },
      "source": [
        "bush_shift = polling_trace_debates[\"bush_shift\"]\n",
        "perc_shift = (\n",
        "              len(bush_shift[bush_shift > 0])\n",
        "              /len(bush_shift)\n",
        "             )\n",
        "print(f'P(Shift Towards Bush) = {perc_shift:.1%}')\n"
      ],
      "execution_count": 89,
      "outputs": [
        {
          "output_type": "stream",
          "text": [
            "P(Shift Towards Bush) = 18.8%\n"
          ],
          "name": "stdout"
        }
      ]
    }
  ]
}