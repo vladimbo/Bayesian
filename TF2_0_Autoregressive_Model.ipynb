{
  "nbformat": 4,
  "nbformat_minor": 0,
  "metadata": {
    "colab": {
      "name": "TF2.0 Autoregressive Model.ipynb",
      "provenance": [],
      "collapsed_sections": [],
      "include_colab_link": true
    },
    "kernelspec": {
      "name": "python3",
      "display_name": "Python 3"
    }
  },
  "cells": [
    {
      "cell_type": "markdown",
      "metadata": {
        "id": "view-in-github",
        "colab_type": "text"
      },
      "source": [
        "<a href=\"https://colab.research.google.com/github/vladimbo/Bayesian/blob/master/TF2_0_Autoregressive_Model.ipynb\" target=\"_parent\"><img src=\"https://colab.research.google.com/assets/colab-badge.svg\" alt=\"Open In Colab\"/></a>"
      ]
    },
    {
      "cell_type": "code",
      "metadata": {
        "id": "WJykK-B_rnbw",
        "outputId": "870a18ce-22f2-4933-c762-2472c907dbd0",
        "colab": {
          "base_uri": "https://localhost:8080/"
        }
      },
      "source": [
        "# Install TensorFlow\n",
        "# !pip install -q tensorflow-gpu==2.0.0-beta1\n",
        "\n",
        "try:\n",
        "  %tensorflow_version 2.x  # Colab only.\n",
        "except Exception:\n",
        "  pass\n",
        "\n",
        "import tensorflow as tf\n",
        "print(tf.__version__)"
      ],
      "execution_count": 1,
      "outputs": [
        {
          "output_type": "stream",
          "name": "stdout",
          "text": [
            "`%tensorflow_version` only switches the major version: 1.x or 2.x.\n",
            "You set: `2.x  # Colab only.`. This will be interpreted as: `2.x`.\n",
            "\n",
            "\n",
            "TensorFlow 2.x selected.\n",
            "2.8.0\n"
          ]
        }
      ]
    },
    {
      "cell_type": "code",
      "metadata": {
        "id": "DkR-FgUGrt3f"
      },
      "source": [
        "from tensorflow.keras.layers import Input, Dense\n",
        "from tensorflow.keras.models import Model\n",
        "from tensorflow.keras.optimizers import SGD, Adam\n",
        "\n",
        "import numpy as np\n",
        "import pandas as pd\n",
        "import matplotlib.pyplot as plt"
      ],
      "execution_count": 2,
      "outputs": []
    },
    {
      "cell_type": "code",
      "metadata": {
        "id": "NBgpKjxXsBZn",
        "outputId": "f0585c23-5b9c-46f2-cdd9-15477b626d38",
        "colab": {
          "base_uri": "https://localhost:8080/",
          "height": 265
        }
      },
      "source": [
        "# make the original data\n",
        "series = np.sin(0.1*np.arange(200)) #+ np.random.randn(200)*0.1\n",
        "\n",
        "# plot it\n",
        "plt.plot(series)\n",
        "plt.show()"
      ],
      "execution_count": 3,
      "outputs": [
        {
          "output_type": "display_data",
          "data": {
            "text/plain": [
              "<Figure size 432x288 with 1 Axes>"
            ],
            "image/png": "[encoded data removed]"
          },
          "metadata": {
            "needs_background": "light"
          }
        }
      ]
    },
    {
      "cell_type": "code",
      "metadata": {
        "id": "qnR4MAM9sGF1",
        "outputId": "dadf0a15-4cdc-41e8-dfcf-8189acc9521e",
        "colab": {
          "base_uri": "https://localhost:8080/"
        }
      },
      "source": [
        "### build the dataset\n",
        "# let's see if we can use T past values to predict the next value\n",
        "T = 10\n",
        "X = []\n",
        "Y = []\n",
        "for t in range(len(series) - T):\n",
        "  x = series[t:t+T]\n",
        "  X.append(x)\n",
        "  y = series[t+T]\n",
        "  Y.append(y)\n",
        "\n",
        "X = np.array(X).reshape(-1, T)\n",
        "Y = np.array(Y)\n",
        "N = len(X)\n",
        "print(\"X.shape\", X.shape, \"Y.shape\", Y.shape)"
      ],
      "execution_count": 4,
      "outputs": [
        {
          "output_type": "stream",
          "name": "stdout",
          "text": [
            "X.shape (190, 10) Y.shape (190,)\n"
          ]
        }
      ]
    },
    {
      "cell_type": "code",
      "metadata": {
        "id": "EESqey3TsODi",
        "outputId": "60a7271d-9ccf-4fab-f36d-96fb3334f95c",
        "colab": {
          "base_uri": "https://localhost:8080/"
        }
      },
      "source": [
        "### try autoregressive linear model\n",
        "i = Input(shape=(T,))\n",
        "x = Dense(1)(i)\n",
        "model = Model(i, x)\n",
        "model.compile(\n",
        "  loss='mse',\n",
        "  optimizer=Adam(lr=0.1),\n",
        ")\n",
        "\n",
        "# train the RNN\n",
        "r = model.fit(\n",
        "  X[:-N//2], Y[:-N//2],\n",
        "  epochs=80,\n",
        "  validation_data=(X[-N//2:], Y[-N//2:]),\n",
        ")"
      ],
      "execution_count": 5,
      "outputs": [
        {
          "output_type": "stream",
          "name": "stdout",
          "text": [
            "Epoch 1/80\n"
          ]
        },
        {
          "output_type": "stream",
          "name": "stderr",
          "text": [
            "/usr/local/lib/python3.7/dist-packages/keras/optimizer_v2/adam.py:105: UserWarning: The `lr` argument is deprecated, use `learning_rate` instead.\n",
            "  super(Adam, self).__init__(name, **kwargs)\n"
          ]
        },
        {
          "output_type": "stream",
          "name": "stdout",
          "text": [
            "3/3 [==============================] - 1s 72ms/step - loss: 0.2005 - val_loss: 0.0751\n",
            "Epoch 2/80\n",
            "3/3 [==============================] - 0s 13ms/step - loss: 0.1219 - val_loss: 0.0240\n",
            "Epoch 3/80\n",
            "3/3 [==============================] - 0s 14ms/step - loss: 0.0316 - val_loss: 0.0825\n",
            "Epoch 4/80\n",
            "3/3 [==============================] - 0s 14ms/step - loss: 0.0441 - val_loss: 0.0104\n",
            "Epoch 5/80\n",
            "3/3 [==============================] - 0s 14ms/step - loss: 0.0392 - val_loss: 0.0340\n",
            "Epoch 6/80\n",
            "3/3 [==============================] - 0s 19ms/step - loss: 0.0168 - val_loss: 0.0245\n",
            "Epoch 7/80\n",
            "3/3 [==============================] - 0s 14ms/step - loss: 0.0271 - val_loss: 0.0069\n",
            "Epoch 8/80\n",
            "3/3 [==============================] - 0s 22ms/step - loss: 0.0065 - val_loss: 0.0110\n",
            "Epoch 9/80\n",
            "3/3 [==============================] - 0s 14ms/step - loss: 0.0070 - val_loss: 0.0013\n",
            "Epoch 10/80\n",
            "3/3 [==============================] - 0s 13ms/step - loss: 0.0055 - val_loss: 0.0039\n",
            "Epoch 11/80\n",
            "3/3 [==============================] - 0s 14ms/step - loss: 0.0027 - val_loss: 0.0056\n",
            "Epoch 12/80\n",
            "3/3 [==============================] - 0s 15ms/step - loss: 0.0050 - val_loss: 0.0013\n",
            "Epoch 13/80\n",
            "3/3 [==============================] - 0s 14ms/step - loss: 0.0028 - val_loss: 0.0025\n",
            "Epoch 14/80\n",
            "3/3 [==============================] - 0s 14ms/step - loss: 0.0016 - val_loss: 0.0017\n",
            "Epoch 15/80\n",
            "3/3 [==============================] - 0s 14ms/step - loss: 0.0018 - val_loss: 1.0995e-04\n",
            "Epoch 16/80\n",
            "3/3 [==============================] - 0s 14ms/step - loss: 0.0010 - val_loss: 9.3225e-04\n",
            "Epoch 17/80\n",
            "3/3 [==============================] - 0s 17ms/step - loss: 6.1283e-04 - val_loss: 0.0013\n",
            "Epoch 18/80\n",
            "3/3 [==============================] - 0s 15ms/step - loss: 8.9721e-04 - val_loss: 3.0810e-04\n",
            "Epoch 19/80\n",
            "3/3 [==============================] - 0s 20ms/step - loss: 5.5483e-04 - val_loss: 1.5793e-04\n",
            "Epoch 20/80\n",
            "3/3 [==============================] - 0s 14ms/step - loss: 1.5111e-04 - val_loss: 2.8973e-04\n",
            "Epoch 21/80\n",
            "3/3 [==============================] - 0s 14ms/step - loss: 1.6870e-04 - val_loss: 2.3380e-04\n",
            "Epoch 22/80\n",
            "3/3 [==============================] - 0s 15ms/step - loss: 2.3818e-04 - val_loss: 6.3894e-05\n",
            "Epoch 23/80\n",
            "3/3 [==============================] - 0s 25ms/step - loss: 1.7442e-04 - val_loss: 1.3989e-04\n",
            "Epoch 24/80\n",
            "3/3 [==============================] - 0s 13ms/step - loss: 1.1122e-04 - val_loss: 1.2430e-04\n",
            "Epoch 25/80\n",
            "3/3 [==============================] - 0s 23ms/step - loss: 7.3294e-05 - val_loss: 5.9066e-05\n",
            "Epoch 26/80\n",
            "3/3 [==============================] - 0s 17ms/step - loss: 9.2794e-05 - val_loss: 2.0247e-05\n",
            "Epoch 27/80\n",
            "3/3 [==============================] - 0s 15ms/step - loss: 7.9465e-05 - val_loss: 3.0259e-05\n",
            "Epoch 28/80\n",
            "3/3 [==============================] - 0s 13ms/step - loss: 4.9755e-05 - val_loss: 7.4948e-05\n",
            "Epoch 29/80\n",
            "3/3 [==============================] - 0s 16ms/step - loss: 3.5401e-05 - val_loss: 5.1428e-05\n",
            "Epoch 30/80\n",
            "3/3 [==============================] - 0s 13ms/step - loss: 3.6947e-05 - val_loss: 2.8574e-05\n",
            "Epoch 31/80\n",
            "3/3 [==============================] - 0s 13ms/step - loss: 3.2879e-05 - val_loss: 9.6447e-06\n",
            "Epoch 32/80\n",
            "3/3 [==============================] - 0s 17ms/step - loss: 2.1584e-05 - val_loss: 8.8795e-06\n",
            "Epoch 33/80\n",
            "3/3 [==============================] - 0s 15ms/step - loss: 1.4347e-05 - val_loss: 1.4315e-05\n",
            "Epoch 34/80\n",
            "3/3 [==============================] - 0s 15ms/step - loss: 8.2892e-06 - val_loss: 8.8085e-06\n",
            "Epoch 35/80\n",
            "3/3 [==============================] - 0s 23ms/step - loss: 5.9721e-06 - val_loss: 7.5471e-06\n",
            "Epoch 36/80\n",
            "3/3 [==============================] - 0s 13ms/step - loss: 6.2844e-06 - val_loss: 4.8804e-06\n",
            "Epoch 37/80\n",
            "3/3 [==============================] - 0s 13ms/step - loss: 3.7047e-06 - val_loss: 1.7666e-07\n",
            "Epoch 38/80\n",
            "3/3 [==============================] - 0s 14ms/step - loss: 1.9044e-06 - val_loss: 7.6286e-07\n",
            "Epoch 39/80\n",
            "3/3 [==============================] - 0s 12ms/step - loss: 1.8207e-06 - val_loss: 7.6888e-07\n",
            "Epoch 40/80\n",
            "3/3 [==============================] - 0s 13ms/step - loss: 1.2779e-06 - val_loss: 7.7852e-07\n",
            "Epoch 41/80\n",
            "3/3 [==============================] - 0s 13ms/step - loss: 7.7533e-07 - val_loss: 1.0606e-06\n",
            "Epoch 42/80\n",
            "3/3 [==============================] - 0s 15ms/step - loss: 4.8942e-07 - val_loss: 1.1200e-06\n",
            "Epoch 43/80\n",
            "3/3 [==============================] - 0s 24ms/step - loss: 5.8118e-07 - val_loss: 7.0028e-07\n",
            "Epoch 44/80\n",
            "3/3 [==============================] - 0s 13ms/step - loss: 4.7144e-07 - val_loss: 4.6503e-07\n",
            "Epoch 45/80\n",
            "3/3 [==============================] - 0s 14ms/step - loss: 3.2337e-07 - val_loss: 2.0527e-07\n",
            "Epoch 46/80\n",
            "3/3 [==============================] - 0s 14ms/step - loss: 1.9838e-07 - val_loss: 3.3325e-08\n",
            "Epoch 47/80\n",
            "3/3 [==============================] - 0s 17ms/step - loss: 1.1229e-07 - val_loss: 1.6489e-08\n",
            "Epoch 48/80\n",
            "3/3 [==============================] - 0s 23ms/step - loss: 9.9528e-08 - val_loss: 1.7359e-08\n",
            "Epoch 49/80\n",
            "3/3 [==============================] - 0s 13ms/step - loss: 7.6805e-08 - val_loss: 1.3360e-08\n",
            "Epoch 50/80\n",
            "3/3 [==============================] - 0s 14ms/step - loss: 5.4107e-08 - val_loss: 3.4447e-08\n",
            "Epoch 51/80\n",
            "3/3 [==============================] - 0s 14ms/step - loss: 3.6953e-08 - val_loss: 4.3786e-08\n",
            "Epoch 52/80\n",
            "3/3 [==============================] - 0s 14ms/step - loss: 3.8165e-08 - val_loss: 3.5056e-08\n",
            "Epoch 53/80\n",
            "3/3 [==============================] - 0s 24ms/step - loss: 2.1777e-08 - val_loss: 2.6488e-08\n",
            "Epoch 54/80\n",
            "3/3 [==============================] - 0s 16ms/step - loss: 1.3435e-08 - val_loss: 3.9507e-08\n",
            "Epoch 55/80\n",
            "3/3 [==============================] - 0s 14ms/step - loss: 1.7679e-08 - val_loss: 2.0430e-08\n",
            "Epoch 56/80\n",
            "3/3 [==============================] - 0s 14ms/step - loss: 1.2527e-08 - val_loss: 1.5015e-08\n",
            "Epoch 57/80\n",
            "3/3 [==============================] - 0s 14ms/step - loss: 9.7422e-09 - val_loss: 8.3338e-09\n",
            "Epoch 58/80\n",
            "3/3 [==============================] - 0s 16ms/step - loss: 6.1058e-09 - val_loss: 9.5083e-09\n",
            "Epoch 59/80\n",
            "3/3 [==============================] - 0s 16ms/step - loss: 5.3162e-09 - val_loss: 8.1339e-09\n",
            "Epoch 60/80\n",
            "3/3 [==============================] - 0s 17ms/step - loss: 4.8058e-09 - val_loss: 4.5426e-09\n",
            "Epoch 61/80\n",
            "3/3 [==============================] - 0s 15ms/step - loss: 4.3207e-09 - val_loss: 3.7067e-09\n",
            "Epoch 62/80\n",
            "3/3 [==============================] - 0s 23ms/step - loss: 3.4897e-09 - val_loss: 4.3147e-09\n",
            "Epoch 63/80\n",
            "3/3 [==============================] - 0s 15ms/step - loss: 2.2678e-09 - val_loss: 2.1840e-09\n",
            "Epoch 64/80\n",
            "3/3 [==============================] - 0s 14ms/step - loss: 1.7489e-09 - val_loss: 1.7281e-09\n",
            "Epoch 65/80\n",
            "3/3 [==============================] - 0s 23ms/step - loss: 1.6627e-09 - val_loss: 1.8961e-09\n",
            "Epoch 66/80\n",
            "3/3 [==============================] - 0s 14ms/step - loss: 1.4495e-09 - val_loss: 2.0671e-09\n",
            "Epoch 67/80\n",
            "3/3 [==============================] - 0s 15ms/step - loss: 1.0183e-09 - val_loss: 1.7404e-09\n",
            "Epoch 68/80\n",
            "3/3 [==============================] - 0s 15ms/step - loss: 9.8651e-10 - val_loss: 1.1422e-09\n",
            "Epoch 69/80\n",
            "3/3 [==============================] - 0s 16ms/step - loss: 8.2838e-10 - val_loss: 9.8678e-10\n",
            "Epoch 70/80\n",
            "3/3 [==============================] - 0s 15ms/step - loss: 7.7653e-10 - val_loss: 1.0293e-09\n",
            "Epoch 71/80\n",
            "3/3 [==============================] - 0s 14ms/step - loss: 4.3706e-10 - val_loss: 6.6441e-10\n",
            "Epoch 72/80\n",
            "3/3 [==============================] - 0s 14ms/step - loss: 3.3638e-10 - val_loss: 3.1069e-10\n",
            "Epoch 73/80\n",
            "3/3 [==============================] - 0s 14ms/step - loss: 2.5973e-10 - val_loss: 3.1331e-10\n",
            "Epoch 74/80\n",
            "3/3 [==============================] - 0s 16ms/step - loss: 2.1650e-10 - val_loss: 2.0232e-10\n",
            "Epoch 75/80\n",
            "3/3 [==============================] - 0s 14ms/step - loss: 1.6280e-10 - val_loss: 1.0667e-10\n",
            "Epoch 76/80\n",
            "3/3 [==============================] - 0s 24ms/step - loss: 1.4709e-10 - val_loss: 4.9896e-11\n",
            "Epoch 77/80\n",
            "3/3 [==============================] - 0s 14ms/step - loss: 1.0863e-10 - val_loss: 1.5937e-11\n",
            "Epoch 78/80\n",
            "3/3 [==============================] - 0s 24ms/step - loss: 9.8331e-11 - val_loss: 2.0209e-11\n",
            "Epoch 79/80\n",
            "3/3 [==============================] - 0s 15ms/step - loss: 8.1080e-11 - val_loss: 1.9112e-11\n",
            "Epoch 80/80\n",
            "3/3 [==============================] - 0s 15ms/step - loss: 8.6558e-11 - val_loss: 1.1438e-11\n"
          ]
        }
      ]
    },
    {
      "cell_type": "code",
      "metadata": {
        "id": "2BA0rLqrsw7i",
        "outputId": "bcd14f16-d1ba-48d5-e83f-12884038a900",
        "colab": {
          "base_uri": "https://localhost:8080/",
          "height": 282
        }
      },
      "source": [
        "# Plot loss per iteration\n",
        "import matplotlib.pyplot as plt\n",
        "plt.plot(r.history['loss'], label='loss')\n",
        "plt.plot(r.history['val_loss'], label='val_loss')\n",
        "plt.legend()"
      ],
      "execution_count": 6,
      "outputs": [
        {
          "output_type": "execute_result",
          "data": {
            "text/plain": [
              "<matplotlib.legend.Legend at 0x7f4ae206c750>"
            ]
          },
          "metadata": {},
          "execution_count": 6
        },
        {
          "output_type": "display_data",
          "data": {
            "text/plain": [
              "<Figure size 432x288 with 1 Axes>"
            ],
            "image/png": "[encoded data removed]"
          },
          "metadata": {
            "needs_background": "light"
          }
        }
      ]
    },
    {
      "cell_type": "code",
      "metadata": {
        "id": "DyyEx1Gx4Q7t"
      },
      "source": [
        "# \"Wrong\" forecast using true targets\n",
        "\n",
        "validation_target = Y[-N//2:]\n",
        "validation_predictions = []\n",
        "\n",
        "# index of first validation input\n",
        "i = -N//2\n",
        "\n",
        "while len(validation_predictions) < len(validation_target):\n",
        "  p = model.predict(X[i].reshape(1, -1))[0,0] # 1x1 array -> scalar\n",
        "  i += 1\n",
        "  \n",
        "  # update the predictions list\n",
        "  validation_predictions.append(p)"
      ],
      "execution_count": 7,
      "outputs": []
    },
    {
      "cell_type": "code",
      "metadata": {
        "id": "hb18Dr0O4ec9",
        "outputId": "9490aa77-aa83-4767-ebd5-36372bc7953b",
        "colab": {
          "base_uri": "https://localhost:8080/",
          "height": 282
        }
      },
      "source": [
        "plt.plot(validation_target, label='forecast target')\n",
        "plt.plot(validation_predictions, label='forecast prediction')\n",
        "plt.legend()"
      ],
      "execution_count": null,
      "outputs": [
        {
          "output_type": "execute_result",
          "data": {
            "text/plain": [
              "<matplotlib.legend.Legend at 0x7fddeb1e37f0>"
            ]
          },
          "metadata": {
            "tags": []
          },
          "execution_count": 8
        },
        {
          "output_type": "display_data",
          "data": {
            "image/png": "[encoded data removed]",
            "text/plain": [
              "<Figure size 432x288 with 1 Axes>"
            ]
          },
          "metadata": {
            "tags": []
          }
        }
      ]
    },
    {
      "cell_type": "code",
      "metadata": {
        "id": "j9Idhr4ss3g_"
      },
      "source": [
        "# Forecast future values (use only self-predictions for making future predictions)\n",
        "\n",
        "validation_target = Y[-N//2:]\n",
        "validation_predictions = []\n",
        "\n",
        "# last train input\n",
        "last_x = X[-N//2] # 1-D array of length T\n",
        "\n",
        "while len(validation_predictions) < len(validation_target):\n",
        "  p = model.predict(last_x.reshape(1, -1))[0,0] # 1x1 array -> scalar\n",
        "  \n",
        "  # update the predictions list\n",
        "  validation_predictions.append(p)\n",
        "  \n",
        "  # make the new input\n",
        "  last_x = np.roll(last_x, -1)\n",
        "  last_x[-1] = p"
      ],
      "execution_count": 8,
      "outputs": []
    },
    {
      "cell_type": "code",
      "metadata": {
        "id": "i0QEZgwV3WPI",
        "outputId": "c58b56ba-ff79-43cc-8e53-8b274312289c",
        "colab": {
          "base_uri": "https://localhost:8080/",
          "height": 285
        }
      },
      "source": [
        "plt.plot(validation_target, label='forecast target')\n",
        "plt.plot(validation_predictions, label='forecast prediction')\n",
        "plt.legend()"
      ],
      "execution_count": 9,
      "outputs": [
        {
          "output_type": "execute_result",
          "data": {
            "text/plain": [
              "<matplotlib.legend.Legend at 0x7f4addb94fd0>"
            ]
          },
          "metadata": {},
          "execution_count": 9
        },
        {
          "output_type": "display_data",
          "data": {
            "text/plain": [
              "<Figure size 432x288 with 1 Axes>"
            ],
            "image/png": "[encoded data removed]"
          },
          "metadata": {
            "needs_background": "light"
          }
        }
      ]
    }
  ]
}